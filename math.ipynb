{
 "metadata": {
  "language_info": {
   "codemirror_mode": {
    "name": "ipython",
    "version": 3
   },
   "file_extension": ".py",
   "mimetype": "text/x-python",
   "name": "python",
   "nbconvert_exporter": "python",
   "pygments_lexer": "ipython3",
   "version": 3
  },
  "orig_nbformat": 2
 },
 "nbformat": 4,
 "nbformat_minor": 2,
 "cells": [
  {
   "source": [
    "$\\hat{Y} = \\hat{\\beta}_{0} + \\sum \\limits _{j=1} ^{p} X_{j}\\hat{\\beta}_{j} $"
   ],
   "cell_type": "markdown",
   "metadata": {}
  },
  {
   "source": [
    "```\n",
    "$\\hat{Y} = \\hat{\\beta}_{0} + \\sum \\limits _{j=1} ^{p} X_{j}\\hat{\\beta}_{j} $\n",
    "```"
   ],
   "cell_type": "markdown",
   "metadata": {}
  },
  {
   "source": [
    "```\n",
    "* $ : All the Math you want to write in the markdown should be inside opening and closing $ symbol in order to be processed as Math.\n",
    "* \\beta : Creates the symbol beta\n",
    "* \\hat{} : A hat is covered over anything inside the curly braces of \\hat{}. E.g. in \\hat{Y} hat is created over Y and in \\hat{\\beta}_{0},  hat is shown over beta\n",
    "* _{} : Creates as subscript, anything inside the curly braces after _. E.g. \\hat{\\beta}_{0} will create beta with a hat and give it a subscript of 0.\n",
    "* ^{} : (Similar to subscript) Creates as superscript, anything inside the curly braces after ^.\n",
    "* \\sum : Creates the summation symbol\n",
    "* \\limits _{} ^{} : Creates lower and upper limit for the \\sum using the subscript and superscript notation.\n",
    "```\n"
   ],
   "cell_type": "markdown",
   "metadata": {}
  },
  {
   "source": [
    "$$\\hat{Y} = \\hat{\\beta}_{0} + \\sum \\limits _{j=1} ^{p} X_{j}\\hat{\\beta}_{j} $$"
   ],
   "cell_type": "markdown",
   "metadata": {}
  },
  {
   "source": [
    "***\n",
    "$\\mathbf{\\text{Gradient Tree Boosting Algorithm}}$<br>\n",
    "***\n",
    "1.&emsp;Initialize model with a constant value $$f_{0}(x) = \\textrm{arg min}_{\\gamma} \\sum \\limits _{i=1} ^{N} L(y_{i}, \\gamma)$$\n",
    "2.&emsp;For m = 1 to M:<br>\n",
    "&emsp;&emsp;(a)&emsp;For $i = 1,2,...,N$ compute<br>\n",
    "    $$r_{im} = - \\displaystyle \\Bigg[\\frac{\\partial L(y_{i}, f(x_{i}))}{\\partial f(x_{i})}\\Bigg]_{f=f_{m−1}}$$\n",
    "&emsp;&emsp;(b)&emsp;Fit a regression tree to the targets $r_{im}$ giving terminal regions<br>\n",
    "&emsp;&emsp;&emsp;&emsp;$R_{jm}, j = 1, 2, . . . , J_{m}.$<br><br>\n",
    "&emsp;&emsp;(c)&emsp;For $j = 1, 2, . . . , J_{m}$ compute<br>\n",
    "$$\\gamma_{jm} = \\underset{\\gamma}{\\textrm{arg min}} \\sum \\limits _{x_{i} \\in R_{jm}} L(y_{i}, f_{m−1}(x_{i}) + \\gamma)$$\n",
    "<br>\n",
    "&emsp;&emsp;(d)&emsp;Update $f_{m}(x) = f_{m−1}(x) + \\sum _{j=1} ^{J_{m}} \\gamma_{jm} I(x \\in R_{jm})$<br><br>\n",
    "3. Output $\\hat{f}(x) = f_{M}(x)$\n",
    "***"
   ],
   "cell_type": "markdown",
   "metadata": {}
  },
  {
   "source": [
    "$ \\Large \\Sigma = \\begin{bmatrix} \\sigma^{2}_{xx} & \\sigma_{xy} \\\\ \\sigma_{yx} & \\sigma^{2}_{yy} \\end{bmatrix} $"
   ],
   "cell_type": "markdown",
   "metadata": {}
  },
  {
   "source": [
    "```\n",
    "$ \\Large \\Sigma = \\begin{bmatrix} \\sigma^{2}_{xx} & \\sigma_{xy} \\\\ \\sigma_{yx} & \\sigma^{2}_{yy} \\end{bmatrix} $\n",
    "```"
   ],
   "cell_type": "markdown",
   "metadata": {}
  }
 ]
}